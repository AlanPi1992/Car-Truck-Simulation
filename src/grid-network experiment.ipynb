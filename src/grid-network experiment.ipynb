{
 "cells": [
  {
   "cell_type": "code",
   "execution_count": 1,
   "metadata": {},
   "outputs": [],
   "source": [
    "import os\n",
    "import numpy as np\n",
    "import pandas as pd\n",
    "import sys\n",
    "import pickle\n",
    "# change this to include MNM_mcnb.py from MAC-POSTS\n",
    "sys.path.append(\"/home/alanpi/Desktop/MAC-POSTS/side_project/network_builder\")\n",
    "import matplotlib.pyplot as plt\n",
    "plt.style.use('seaborn-poster')\n",
    "from matplotlib import colors\n",
    "import matplotlib\n",
    "import matplotlib.dates as mdates\n",
    "import datetime\n",
    "import seaborn as sns\n",
    "import math\n",
    "from scipy import stats\n",
    "from sklearn.metrics import r2_score\n",
    "import random"
   ]
  },
  {
   "cell_type": "code",
   "execution_count": 2,
   "metadata": {},
   "outputs": [],
   "source": [
    "import MNMAPI\n",
    "from MNM_mcnb import *\n",
    "from cartruckmodels import *"
   ]
  },
  {
   "cell_type": "markdown",
   "metadata": {},
   "source": [
    "## Generate buffer"
   ]
  },
  {
   "cell_type": "code",
   "execution_count": 3,
   "metadata": {},
   "outputs": [],
   "source": [
    "buffer_file_name = os.path.join('..', 'data', 'input_files_6by6grid_multiclass', 'path_table_buffer')\n",
    "pathtable_file_name = os.path.join('..', 'data', 'input_files_6by6grid_multiclass', 'path_table')"
   ]
  },
  {
   "cell_type": "code",
   "execution_count": 4,
   "metadata": {},
   "outputs": [],
   "source": [
    "last_o = -1\n",
    "last_d = -1\n",
    "count = 0\n",
    "\n",
    "with open(buffer_file_name, 'w') as outfile:\n",
    "    with open(pathtable_file_name, 'r') as infile:\n",
    "        for line in infile.readlines():\n",
    "            nodes = line.rstrip('\\n').split(' ')\n",
    "            current_o = int(nodes[0])\n",
    "            current_d = int(nodes[-1])\n",
    "            if current_o == last_o and current_d == last_d:\n",
    "                count += 1\n",
    "                continue\n",
    "            for i in range(count):\n",
    "                newline = ' '.join([str(1.0/count) for j in range(20)]) + '\\n'\n",
    "                outfile.write(newline)\n",
    "            count = 1\n",
    "            last_o = current_o\n",
    "            last_d = current_d\n",
    "\n",
    "    for i in range(count):\n",
    "        newline = ' '.join([str(1.0/count) for j in range(20)]) + '\\n'\n",
    "        outfile.write(newline)"
   ]
  },
  {
   "cell_type": "markdown",
   "metadata": {},
   "source": [
    "## Sensitivity Analysis"
   ]
  },
  {
   "cell_type": "code",
   "execution_count": 5,
   "metadata": {},
   "outputs": [],
   "source": [
    "data_folder = os.path.join('..', 'data', 'input_files_6by6grid_multiclass')"
   ]
  },
  {
   "cell_type": "code",
   "execution_count": 12,
   "metadata": {},
   "outputs": [
    {
     "name": "stdout",
     "output_type": "stream",
     "text": [
      "0.5\n"
     ]
    }
   ],
   "source": [
    "nb = MNM_network_builder()\n",
    "nb.load_from_folder(data_folder)\n",
    "\n",
    "print(nb.config.config_dict['DTA']['adaptive_ratio'])\n",
    "\n",
    "mcdta = Cartruck_Simulator(nb)\n",
    "\n",
    "MR_link_ID_list = range(1,120)\n",
    "mcdta.run_simulation(data_folder, MR_link_ID_list)\n",
    "mcdta.print_out_overall_stats()"
   ]
  },
  {
   "cell_type": "code",
   "execution_count": null,
   "metadata": {},
   "outputs": [],
   "source": []
  }
 ],
 "metadata": {
  "kernelspec": {
   "display_name": "Python 2",
   "language": "python",
   "name": "python2"
  },
  "language_info": {
   "codemirror_mode": {
    "name": "ipython",
    "version": 2
   },
   "file_extension": ".py",
   "mimetype": "text/x-python",
   "name": "python",
   "nbconvert_exporter": "python",
   "pygments_lexer": "ipython2",
   "version": "2.7.15"
  }
 },
 "nbformat": 4,
 "nbformat_minor": 2
}
