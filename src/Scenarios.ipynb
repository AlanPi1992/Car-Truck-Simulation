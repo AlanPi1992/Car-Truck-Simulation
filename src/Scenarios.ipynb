{
 "cells": [
  {
   "cell_type": "code",
   "execution_count": 1,
   "metadata": {},
   "outputs": [],
   "source": [
    "import os\n",
    "import numpy as np\n",
    "import pandas as pd\n",
    "import sys\n",
    "import pickle\n",
    "# change this to include MNM_mcnb.py from MAC-POSTS\n",
    "sys.path.append(\"/home/alanpi/Desktop/MAC-POSTS/side_project/network_builder\")\n",
    "import matplotlib.pyplot as plt\n",
    "plt.style.use('seaborn-poster')\n",
    "from matplotlib import colors\n",
    "import matplotlib\n",
    "import matplotlib.dates as mdates\n",
    "import datetime\n",
    "import seaborn as sns\n",
    "import math\n",
    "from scipy import stats\n",
    "from sklearn.metrics import r2_score\n",
    "import random"
   ]
  },
  {
   "cell_type": "code",
   "execution_count": 2,
   "metadata": {},
   "outputs": [],
   "source": [
    "import MNMAPI\n",
    "from MNM_mcnb import *\n",
    "from cartruckmodels import *"
   ]
  },
  {
   "cell_type": "markdown",
   "metadata": {},
   "source": [
    "## Links"
   ]
  },
  {
   "cell_type": "code",
   "execution_count": 3,
   "metadata": {},
   "outputs": [],
   "source": [
    "''' Refer to the slides or report for the locations of intersection A to F '''\n",
    "MR_link_ID_list = [1007186,7186, # A <-> B\n",
    "                   1007174,7174, # B <-> C\n",
    "                   7173,1007173, # C <-> D\n",
    "                   7177,1003858, # D  -> E\n",
    "                   3858,1007177, # E  -> D\n",
    "                   3857,1003857, # E <-> F\n",
    "                   4150,3863,    # A\n",
    "                   7167,         # B\n",
    "                   1022916,      # C\n",
    "                   1007176,      # D\n",
    "                   3832,1003862,1022923 # F\n",
    "                  ]\n",
    "\n",
    "link_map = {1007186:\"A -> B\", 7186:\"A <- B\", 1007174:\"B -> C\", 7174:\"B <- C\", 7173:\"C -> D\", 1007173:\"C <- D\",\n",
    "            7177:\"D -> E\", 1003858:\"D -> E\", 3858:\"E -> D\", 1007177:\"E -> D\", 3857:\"E -> F\", 1003857:\"E <- F\"}"
   ]
  },
  {
   "cell_type": "markdown",
   "metadata": {},
   "source": [
    "## Scenarios"
   ]
  },
  {
   "cell_type": "code",
   "execution_count": 4,
   "metadata": {},
   "outputs": [],
   "source": [
    "''' Select only one input data folder from the scenarios below: '''\n",
    "\n",
    "# Scenario 0: No traffic management or control scheme; No population and industrial/freight traffic growth from 2016 \n",
    "# data_folder = '../data/input_files_MckeesRocks_SPC_scenario_0'\n",
    "\n",
    "# # Scenario 1: West Carson street extension, ‘truck only’\n",
    "# data_folder = '../data/input_files_MckeesRocks_SPC_scenario_1'\n",
    "\n",
    "# # Scenario 2: West Carson street extension, ‘car and truck’\n",
    "# data_folder = '../data/input_files_MckeesRocks_SPC_scenario_2'\n",
    "\n",
    "# # Scenario 3: Change of development plans at the P&LE site \n",
    "data_folder = '../data/input_files_MckeesRocks_SPC_scenario_3'\n",
    "\n",
    "# # Scenario 4: No left truck turns on Angelina Avenue\n",
    "# data_folder = '../data/input_files_MckeesRocks_SPC_scenario_4'\n",
    "\n",
    "# # Scenario 5: Scenario 1 & 4 together\n",
    "# data_folder = '../data/input_files_MckeesRocks_SPC_scenario_5'\n",
    "\n",
    "# # Scenario 6: 20% increase of population (20% increase in car use) \n",
    "# data_folder = '../data/input_files_MckeesRocks_SPC_scenario_6'\n",
    "\n",
    "# # Scenario 7: 10% increase in industrial/freight traffic\n",
    "# data_folder = '../data/input_files_MckeesRocks_SPC_scenario_7'"
   ]
  },
  {
   "cell_type": "markdown",
   "metadata": {},
   "source": [
    "## Simulation"
   ]
  },
  {
   "cell_type": "code",
   "execution_count": 5,
   "metadata": {},
   "outputs": [
    {
     "name": "stdout",
     "output_type": "stream",
     "text": [
      "------------------------------------1-------------------------------------------\n",
      "Init simulation\n",
      "Average travel times between nodes:\n",
      "30.0 67.26 25.44 27.24 20.04 26.82 29.7 23.22 15.42 26.34\n",
      "16.68 70.86 11.16 19.68 25.44 25.8 23.7 20.52 11.28 29.4\n",
      "Average waiting times at end of links:\n",
      "[15.577, 21.642, 15.003, 21.502, 16.019, 15.0, 16.695, 16.623, 16.736, 16.673, 16.776, 23.131, 16.106, 20.179, 21.76, 15.254, 15.297, 16.723, 19.425, 18.209]\n",
      "If link spill back:\n",
      "[0 1 0 1 0 0 1 1 1 1 0 1]\n",
      "Travel times to important locations:\n",
      "(1390.68, 1348.92, 1473.96, 1216.02, 1316.16, 1383.3600000000001)\n",
      "------------------------------------2-------------------------------------------\n",
      "Init simulation\n",
      "Average travel times between nodes:\n",
      "29.4 84.66 24.3 41.34 20.82 25.2 56.46 30.54 27.6 15.3\n",
      "19.86 73.32 17.76 23.16 30.78 23.28 28.44 26.28 15.6 14.7\n",
      "Average waiting times at end of links:\n",
      "[15.319, 22.879, 16.09, 25.213, 19.641, 15.787, 21.756, 18.663, 15.062, 15.466, 23.68, 18.451, 15.266, 23.451, 24.502, 15.899, 17.491, 20.075, 22.905, 17.999]\n",
      "If link spill back:\n",
      "[0 1 0 1 1 0 1 1 1 0 0 0]\n",
      "Travel times to important locations:\n",
      "(1175.6399999999999, 1336.56, 1467.0, 945.1200000000001, 1282.56, 1368.1200000000001)\n",
      "------------------------------------3-------------------------------------------\n",
      "Init simulation\n",
      "Average travel times between nodes:\n",
      "29.4 75.48 27.48 32.82 28.8 23.76 29.46 29.4 19.62 14.16\n",
      "21.6 65.82 12.0 13.44 29.94 24.9 20.7 18.72 13.5 14.88\n",
      "Average waiting times at end of links:\n",
      "[15.161, 22.011, 15.266, 22.334, 17.608, 15.017, 16.658, 15.0, 15.042, 15.316, 18.757, 15.0, 15.554, 21.68, 22.528, 15.227, 15.769, 17.887, 17.626, 16.936]\n",
      "If link spill back:\n",
      "[0 1 0 0 0 0 1 0 0 0 0 0]\n",
      "Travel times to important locations:\n",
      "(1146.24, 1431.84, 1467.24, 962.46, 1327.68, 1309.68)\n"
     ]
    }
   ],
   "source": [
    "for repeat_time in range(3):\n",
    "    print(\"------------------------------------{0}-------------------------------------------\".format(repeat_time+1))\n",
    "    nb = MNM_network_builder()\n",
    "    nb.load_from_folder(data_folder)\n",
    "    mcdta = Cartruck_Simulator(nb)\n",
    "    mcdta.run_simulation(data_folder, MR_link_ID_list)\n",
    "    \n",
    "    \n",
    "    # Travel time between nodes\n",
    "    mid_intervals = np.array([i * 180 + 90 for i in range(24)])\n",
    "#     mid_intervals = np.array([10])\n",
    "\n",
    "    car_link_tt = mcdta.get_link_car_tt(mid_intervals)\n",
    "    truck_link_tt = mcdta.get_link_truck_tt(mid_intervals)\n",
    "\n",
    "    s_car = ''\n",
    "    k = 6\n",
    "    for i in range(6):\n",
    "        s_car += str(round(np.mean(car_link_tt[i]),2)*k) + ' '\n",
    "    s_car += str(round(np.mean(car_link_tt[6]) + np.mean(car_link_tt[7]),2)*k) + ' '\n",
    "    s_car += str(round(np.mean(car_link_tt[8]) + np.mean(car_link_tt[9]),2)*k) + ' '\n",
    "    s_car += str(round(np.mean(car_link_tt[10]),2)*k) + ' ' + str(round(np.mean(car_link_tt[11]),2)*k)\n",
    "\n",
    "    s_truck = ''\n",
    "    for i in range(6):\n",
    "        s_truck += str(round(np.mean(truck_link_tt[i]),2)*k) + ' '\n",
    "    s_truck += str(round(np.mean(truck_link_tt[6]) + np.mean(truck_link_tt[7]),2)*k) + ' '\n",
    "    s_truck += str(round(np.mean(truck_link_tt[8]) + np.mean(truck_link_tt[9]),2)*k) + ' '\n",
    "    s_truck += str(round(np.mean(truck_link_tt[10]),2)*k) + ' ' + str(round(np.mean(truck_link_tt[11]),2)*k)\n",
    "\n",
    "    print('Average travel times between nodes:')\n",
    "    print(s_car)\n",
    "    print(s_truck)\n",
    "    \n",
    "    \n",
    "    # Waiting time at intersections\n",
    "    waitting_time = mcdta.get_waiting_time_at_intersections()\n",
    "    print('Average waiting times at end of links:')\n",
    "    print([round(a*3, 3) for a in waitting_time])\n",
    "\n",
    "\n",
    "    # Check if spill back\n",
    "    spill_back = mcdta.get_link_spillback()\n",
    "    print('If link spill back:')\n",
    "    print(spill_back[:12])\n",
    "    \n",
    "    \n",
    "    # Travel times to important locations\n",
    "    # Downtown: 100123 -> 150120\n",
    "    path_nodes1 = [3763, 3535, 1093, 178, 5862, 7169, 6798, 1726, 6040, 5703, 8236, 7423, 2827, 5711, 2864, 7585, \n",
    "                   5597, 7841, 7596, 6251, 5911, 1430, 4822, 2769, 4318, 1632, 386]\n",
    "    path_links1 = [7174, 7186, 7189, 1004121, 4120, 4118, 4068, 4072, 3960, 3958, 3957, 3941, 3938, 3929, 2027, \n",
    "                   2030, 1997, 2000, 1002040, 2039, 1002043, 2047, 2056, 2163, 2148, 2139]\n",
    "    # [100123 3763 3535 1093 178 5862 7169 3 5151 4025 2618 7509 341 7915 3033 3525 6024 5320 \n",
    "    #  5915 6313 5062 4785 477 1119 4739 8287 4822 2769 4318 1632 6735 150120]\n",
    "    tt1_car = round(np.sum(mcdta.get_path_tt_car(path_links1, mid_intervals)),2)\n",
    "    tt1_truck = round(np.sum(mcdta.get_path_tt_truck(path_links1, mid_intervals)),2)\n",
    "\n",
    "    # Airport: 100123 -> 150194\n",
    "    path_nodes2 = [3763, 3535, 4083, 2370, 5755, 5788, 5215, 6003, 1213, 2187, 2335, 3820, 8321, 6596, 5907, 587, \n",
    "                   1677, 6960, 5319, 5654, 8223, 2477, 324, 6036, 5157]\n",
    "    path_links2 = [7174, 1007167, 1007149, 7150, 7200, 1007203, 7202, 1007146, 7147, 1006711, 6710, 6723, 6891, \n",
    "                   7125, 1007103, 1007098, 7100, 7110, 7107, 16554, 16804, 16807, 1016546, 16545]\n",
    "    # [100123 3763 3535 4083 2370 5755 5788 5215 6003 3963 6414 7543 7763 3820 8321 6596 5907 \n",
    "    #  587 1677 5569 5769 7846 666 8389 4943 8134 5865 8080 150194]\n",
    "    # [100123 3763 3535 4083 2370 5755 5788 5215 6003 3963 6414 7543 7763 3820 8321 6596 11 \n",
    "    #  392 6818 1737 6147 4131 2584 7604 3934 7880 6704 7426 1466 4837 647 4439 3142 2454 150194]\n",
    "    tt2_car = round(np.sum(mcdta.get_path_tt_car(path_links2, mid_intervals)),2)\n",
    "    tt2_truck = round(np.sum(mcdta.get_path_tt_truck(path_links2, mid_intervals)),2)\n",
    "\n",
    "    # I-79 / I-76 interchange: 100123 -> 150275\n",
    "    path_nodes3 = [3763, 3535, 1093, 178, 2224, 194, 1931, 2565, 4610, 2781, 338, 4116, 634, 3950, 4804, 3050, \n",
    "                   4096, 5801, 5027]\n",
    "    path_links3 = [7174, 7186, 7189, 4151, 1007356, 7357, 1007364, 7366, 1016376, 16377, 16385, 16399, 16400, \n",
    "                   7642, 7645, 7646, 7729, 1007704]\n",
    "    tt3_car = round(np.sum(mcdta.get_path_tt_car(path_links3, mid_intervals)),2)\n",
    "    tt3_truck = round(np.sum(mcdta.get_path_tt_truck(path_links3, mid_intervals)),2)\n",
    "\n",
    "    print('Travel times to important locations:')\n",
    "    print(tt1_car*6, tt2_car*12, tt3_car*12, tt1_truck*6, tt2_truck*12, tt3_truck*12)"
   ]
  },
  {
   "cell_type": "markdown",
   "metadata": {},
   "source": [
    "## Find path link ids from node ids"
   ]
  },
  {
   "cell_type": "code",
   "execution_count": 7,
   "metadata": {},
   "outputs": [
    {
     "name": "stdout",
     "output_type": "stream",
     "text": [
      "7174, 7186, 7189, 1004121, 4120, 4118, 4068, 4072, 3960, 3958, 3957, 3941, 3938, 3929, 2027, 2030, 1997, 2000, 1002040, 2039, 1002043, 2047, 2056, 2163, 2148, 2139\n",
      "7174, 1007167, 1007149, 7150, 7200, 1007203, 7202, 1007146, 7147, 1006711, 6710, 6723, 6891, 7125, 1007103, 1007098, 7100, 7110, 7107, 16554, 16804, 16807, 1016546, 16545\n",
      "7174, 7186, 7189, 4151, 1007356, 7357, 1007364, 7366, 1016376, 16377, 16385, 16399, 16400, 7642, 7645, 7646, 7729, 1007704\n"
     ]
    }
   ],
   "source": [
    "graph_file_name = os.path.join('..', 'data', 'input_files_MckeesRocks_SPC_scenario_0', 'Snap_graph')\n",
    "\n",
    "node_link_map = {}\n",
    "with open(graph_file_name, 'r') as infile:\n",
    "    for line in infile.readlines():\n",
    "        if line[0] != '#':\n",
    "            data = line.rstrip('\\n').split(' ')\n",
    "            node_link_map[data[1]+' '+data[2]] = data[0]\n",
    "\n",
    "# Downtown: 100123 -> 150120\n",
    "path_nodes1 = [3763, 3535, 1093, 178, 5862, 7169, 6798, 1726, 6040, 5703, 8236, 7423, 2827, 5711, 2864, 7585, \n",
    " 5597, 7841, 7596, 6251, 5911, 1430, 4822, 2769, 4318, 1632, 386]\n",
    "s = ''\n",
    "for i in range(len(path_nodes1) - 1):\n",
    "    s += node_link_map[str(path_nodes1[i])+' '+str(path_nodes1[i+1])] + ', '\n",
    "s = s[:-2]\n",
    "print(s)\n",
    "\n",
    "\n",
    "# Airport: 100123 -> 150194\n",
    "path_nodes2 = [3763, 3535, 4083, 2370, 5755, 5788, 5215, 6003, 1213, 2187, 2335, 3820, 8321, 6596, 5907, 587, \n",
    " 1677, 6960, 5319, 5654, 8223, 2477, 324, 6036, 5157]\n",
    "s = ''\n",
    "for i in range(len(path_nodes2) - 1):\n",
    "    s += node_link_map[str(path_nodes2[i])+' '+str(path_nodes2[i+1])] + ', '\n",
    "s = s[:-2]\n",
    "print(s)\n",
    "\n",
    "# I-79 / I-76 interchange: 100123 -> 150275\n",
    "path_nodes3 = [3763, 3535, 1093, 178, 2224, 194, 1931, 2565, 4610, 2781, 338, 4116, 634, 3950, 4804, 3050, \n",
    " 4096, 5801, 5027]\n",
    "s = ''\n",
    "for i in range(len(path_nodes3) - 1):\n",
    "    s += node_link_map[str(path_nodes3[i])+' '+str(path_nodes3[i+1])] + ', '\n",
    "s = s[:-2]\n",
    "print(s)"
   ]
  },
  {
   "cell_type": "code",
   "execution_count": null,
   "metadata": {},
   "outputs": [],
   "source": []
  }
 ],
 "metadata": {
  "kernelspec": {
   "display_name": "Python 2",
   "language": "python",
   "name": "python2"
  },
  "language_info": {
   "codemirror_mode": {
    "name": "ipython",
    "version": 2
   },
   "file_extension": ".py",
   "mimetype": "text/x-python",
   "name": "python",
   "nbconvert_exporter": "python",
   "pygments_lexer": "ipython2",
   "version": "2.7.15"
  }
 },
 "nbformat": 4,
 "nbformat_minor": 2
}
